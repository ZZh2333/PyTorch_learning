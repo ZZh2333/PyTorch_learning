{
 "cells": [
  {
   "cell_type": "markdown",
   "id": "successful-interstate",
   "metadata": {},
   "source": [
    "# pytorch 模型框架"
   ]
  },
  {
   "cell_type": "markdown",
   "id": "acquired-breath",
   "metadata": {},
   "source": [
    "```\n",
    "import torch\n",
    "from torch import nn\n",
    "```"
   ]
  },
  {
   "cell_type": "markdown",
   "id": "numeric-genome",
   "metadata": {},
   "source": [
    "```\n",
    "class LogisticRegression(nn.Module):\n",
    "    def __init__(self,in):\n",
    "        super().__init__()\n",
    "#         in:线性函数中输入的大小；1：线性函数中输出的大小，通过sigmoid函数激活，值位于0到1区间\n",
    "        self.log_reg = nn.Sequential(\n",
    "        nn.Linear(in,1),\n",
    "        nn.sigmoid()\n",
    "        )\n",
    "    \n",
    "#     定义模型前进方法\n",
    "    def forward(self,x):\n",
    "        return self.log_reg(x)\n",
    "```"
   ]
  },
  {
   "cell_type": "markdown",
   "id": "charming-minimum",
   "metadata": {},
   "source": [
    "```\n",
    "# 初始化模型实例（16个输入变量）\n",
    "model = LogisticRegression(16)\n",
    "# 确定代价函数\n",
    "criterion = nn.BCELoss()\n",
    "# 选择使用的优化器,指定学习率\n",
    "optimizer = torch.optim.SGD(model.parameters(),lr=0.01)\n",
    "# 为多个不同的epoch训练模型\n",
    "for t in range(n_epochs):\n",
    "#     传入输入获得预测值，与真实值比较获得损失\n",
    "    y_pred = model(x)\n",
    "    loss = criterion(y_pred,y)\n",
    "#     使用优化器来更新模型\n",
    "    optimizer.zero_grad()\n",
    "    loss.backward()\n",
    "#     在模型参数上使用随机梯度下降并更新参数\n",
    "    optimizer.step()\n",
    "```"
   ]
  }
 ],
 "metadata": {
  "kernelspec": {
   "display_name": "Python 3",
   "language": "python",
   "name": "python3"
  },
  "language_info": {
   "codemirror_mode": {
    "name": "ipython",
    "version": 3
   },
   "file_extension": ".py",
   "mimetype": "text/x-python",
   "name": "python",
   "nbconvert_exporter": "python",
   "pygments_lexer": "ipython3",
   "version": "3.6.13"
  }
 },
 "nbformat": 4,
 "nbformat_minor": 5
}
